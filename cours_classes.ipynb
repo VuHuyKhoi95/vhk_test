{
  "nbformat": 4,
  "nbformat_minor": 0,
  "metadata": {
    "colab": {
      "provenance": []
    },
    "kernelspec": {
      "name": "python3",
      "display_name": "Python 3"
    },
    "language_info": {
      "name": "python"
    }
  },
  "cells": [
    {
      "cell_type": "markdown",
      "source": [
        "# Les Classes"
      ],
      "metadata": {
        "id": "AZ3wsGoftOp9"
      }
    },
    {
      "cell_type": "code",
      "execution_count": null,
      "metadata": {
        "id": "ZJXbAom5tKtN"
      },
      "outputs": [],
      "source": [
        "# Quand on veut utiliser une classe il y a 3 etapes :\n",
        "# Etape 1 : la definir\n",
        "# Etape 2 : en creer une instance\n",
        "# Etape 3 : l'utiliser\n",
        "\n",
        "\n",
        "# Etape 1 : la definir\n",
        "class Person():\n",
        "    def __init__(self, name, salary, age): # Ici c'est la fonction qui est appelle quand on cree l'instance (en etape 2)\n",
        "        self.name = name\n",
        "        self.salary = salary # Ici c'est une variable / attribut\n",
        "        self.age = age # Ici c'est une variable / attribut\n",
        "\n",
        "    def get_salary(self): # Ici c'est une fonction / mehode de classe\n",
        "        return self.salary\n",
        "\n",
        "    def get_age(self): # Ici c'est une fonction / mehode de classe\n",
        "        return self.age\n",
        "\n"
      ]
    },
    {
      "cell_type": "code",
      "source": [
        "# Etape 2 : en creer une instance\n",
        "person_instance = Person(\"Didier\",2700,25)\n",
        "\n"
      ],
      "metadata": {
        "id": "YyHOeOYFR732"
      },
      "execution_count": null,
      "outputs": []
    },
    {
      "cell_type": "code",
      "source": [
        "blabla,blabla2,blabla3 = \"blabla\", 2500,30\n",
        "person2 = Person(blabla,blabla2,blabla3)"
      ],
      "metadata": {
        "id": "7ZPlnTiATNlE"
      },
      "execution_count": null,
      "outputs": []
    },
    {
      "cell_type": "code",
      "source": [
        "# Etape 3 : j'utilise l'instance de classe : appel des attributs et des methodes\n",
        "print(person_instance.get_age())\n",
        "print(person_instance.get_salary())\n",
        "print(person_instance.name)"
      ],
      "metadata": {
        "colab": {
          "base_uri": "https://localhost:8080/"
        },
        "id": "jM505kveR9EO",
        "outputId": "5616d376-e762-4cfe-b244-2772fbd02d94"
      },
      "execution_count": null,
      "outputs": [
        {
          "output_type": "stream",
          "name": "stdout",
          "text": [
            "25\n",
            "2700\n",
            "Didier\n"
          ]
        }
      ]
    },
    {
      "cell_type": "code",
      "source": [
        "print(person_instance.name)\n",
        "person_instance.name = \"je change ton nom\"\n",
        "print(person_instance.name)\n"
      ],
      "metadata": {
        "colab": {
          "base_uri": "https://localhost:8080/"
        },
        "id": "uV0zuyjyTkZ6",
        "outputId": "828590b4-f080-4c96-ab4e-ce622d9059c6"
      },
      "execution_count": null,
      "outputs": [
        {
          "output_type": "stream",
          "name": "stdout",
          "text": [
            "Didier\n",
            "je change ton nom\n"
          ]
        }
      ]
    },
    {
      "cell_type": "code",
      "source": [
        "# Ici on peut faire ca car la classe est \"simple\", mais normalement c'est interdit\n",
        "person_instance.surname = \"surnom\"\n",
        "print(person_instance.surname)"
      ],
      "metadata": {
        "colab": {
          "base_uri": "https://localhost:8080/"
        },
        "id": "QxfsvfnGT8QD",
        "outputId": "e829b83c-eba4-4fea-8be3-c16a774c4177"
      },
      "execution_count": null,
      "outputs": [
        {
          "output_type": "stream",
          "name": "stdout",
          "text": [
            "surnom\n"
          ]
        }
      ]
    },
    {
      "cell_type": "code",
      "source": [
        "# Ici on ne peut pas donner de nouvel attribut a ma classe List\n",
        "liste = [21,2,3]\n",
        "liste.surname = \"surnom\""
      ],
      "metadata": {
        "colab": {
          "base_uri": "https://localhost:8080/",
          "height": 164
        },
        "id": "B_MV7-3VUKk6",
        "outputId": "1880cbc5-9de1-43e5-bbd8-f2223b3fc29a"
      },
      "execution_count": null,
      "outputs": [
        {
          "output_type": "error",
          "ename": "AttributeError",
          "evalue": "'list' object has no attribute 'surname'",
          "traceback": [
            "\u001b[0;31m---------------------------------------------------------------------------\u001b[0m",
            "\u001b[0;31mAttributeError\u001b[0m                            Traceback (most recent call last)",
            "\u001b[0;32m<ipython-input-27-3cdc80a3a1c2>\u001b[0m in \u001b[0;36m<cell line: 0>\u001b[0;34m()\u001b[0m\n\u001b[1;32m      1\u001b[0m \u001b[0mliste\u001b[0m \u001b[0;34m=\u001b[0m \u001b[0;34m[\u001b[0m\u001b[0;36m21\u001b[0m\u001b[0;34m,\u001b[0m\u001b[0;36m2\u001b[0m\u001b[0;34m,\u001b[0m\u001b[0;36m3\u001b[0m\u001b[0;34m]\u001b[0m\u001b[0;34m\u001b[0m\u001b[0;34m\u001b[0m\u001b[0m\n\u001b[0;32m----> 2\u001b[0;31m \u001b[0mliste\u001b[0m\u001b[0;34m.\u001b[0m\u001b[0msurname\u001b[0m \u001b[0;34m=\u001b[0m \u001b[0;34m\"surnom\"\u001b[0m\u001b[0;34m\u001b[0m\u001b[0;34m\u001b[0m\u001b[0m\n\u001b[0m",
            "\u001b[0;31mAttributeError\u001b[0m: 'list' object has no attribute 'surname'"
          ]
        }
      ]
    }
  ]
}